{
 "cells": [
  {
   "cell_type": "code",
   "execution_count": 2,
   "id": "c4170445-4459-47f2-b8f8-bb26d952753d",
   "metadata": {},
   "outputs": [
    {
     "name": "stdin",
     "output_type": "stream",
     "text": [
      " 25\n"
     ]
    },
    {
     "name": "stdout",
     "output_type": "stream",
     "text": [
      "不是质数\n"
     ]
    }
   ],
   "source": [
    "a=int(input())\n",
    "if a==1:\n",
    "    print(\"不是质数\")\n",
    "else:\n",
    "    flag=0\n",
    "    for i in range(2,int(a**0.5)+1):\n",
    "        if a%i==0:\n",
    "            print(\"不是质数\")\n",
    "            flag=1\n",
    "            break\n",
    "    if flag==0:\n",
    "        print(\"是质数\")\n",
    "        "
   ]
  },
  {
   "cell_type": "code",
   "execution_count": null,
   "id": "d2badeef-cdf2-46be-b09e-10edb02edc4e",
   "metadata": {},
   "outputs": [],
   "source": []
  }
 ],
 "metadata": {
  "kernelspec": {
   "display_name": "Python 3 (ipykernel)",
   "language": "python",
   "name": "python3"
  },
  "language_info": {
   "codemirror_mode": {
    "name": "ipython",
    "version": 3
   },
   "file_extension": ".py",
   "mimetype": "text/x-python",
   "name": "python",
   "nbconvert_exporter": "python",
   "pygments_lexer": "ipython3",
   "version": "3.11.4"
  }
 },
 "nbformat": 4,
 "nbformat_minor": 5
}
