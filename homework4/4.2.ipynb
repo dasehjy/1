{
 "cells": [
  {
   "cell_type": "code",
   "execution_count": 3,
   "id": "a62f1d9c-d8a4-49d0-97fe-19dba1f5128a",
   "metadata": {},
   "outputs": [
    {
     "name": "stdout",
     "output_type": "stream",
     "text": [
      "1024 1048576 1073741824 1099511627776 1125899906842624\n",
      "0.00033235299633815885\n"
     ]
    }
   ],
   "source": [
    "import time\n",
    "start=time.perf_counter()\n",
    "print(2**10,2**20,2**30,2**40,2**50)\n",
    "end=time.perf_counter()\n",
    "print(str(end-start))"
   ]
  },
  {
   "cell_type": "code",
   "execution_count": null,
   "id": "b55f1f19-43a4-4139-89c9-8c983e4aee46",
   "metadata": {},
   "outputs": [],
   "source": []
  }
 ],
 "metadata": {
  "kernelspec": {
   "display_name": "Python 3 (ipykernel)",
   "language": "python",
   "name": "python3"
  },
  "language_info": {
   "codemirror_mode": {
    "name": "ipython",
    "version": 3
   },
   "file_extension": ".py",
   "mimetype": "text/x-python",
   "name": "python",
   "nbconvert_exporter": "python",
   "pygments_lexer": "ipython3",
   "version": "3.10.10"
  }
 },
 "nbformat": 4,
 "nbformat_minor": 5
}
