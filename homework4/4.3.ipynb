{
 "cells": [
  {
   "cell_type": "code",
   "execution_count": null,
   "id": "00e7418d-6b67-49c1-b03b-ebb787be88a4",
   "metadata": {},
   "outputs": [],
   "source": [
    "def insertion(a):\n",
    "    for i in range(1,len(arr)):\n",
    "        j=i\n",
    "        while(j>0):\n",
    "            if a[j]<a[j-1]:\n",
    "                a[j],a[j-1]=a[j-1],a[j]\n",
    "                j-=1\n",
    "            else:\n",
    "                break\n",
    "    return a"
   ]
  }
 ],
 "metadata": {
  "kernelspec": {
   "display_name": "Python 3 (ipykernel)",
   "language": "python",
   "name": "python3"
  },
  "language_info": {
   "codemirror_mode": {
    "name": "ipython",
    "version": 3
   },
   "file_extension": ".py",
   "mimetype": "text/x-python",
   "name": "python",
   "nbconvert_exporter": "python",
   "pygments_lexer": "ipython3",
   "version": "3.10.10"
  }
 },
 "nbformat": 4,
 "nbformat_minor": 5
}
