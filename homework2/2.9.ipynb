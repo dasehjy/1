{
 "cells": [
  {
   "cell_type": "code",
   "execution_count": 2,
   "id": "8c5d2c02-99b9-4f13-b1e9-1ddfa895e838",
   "metadata": {},
   "outputs": [
    {
     "name": "stdout",
     "output_type": "stream",
     "text": [
      "11.7976\n"
     ]
    }
   ],
   "source": [
    "import random\n",
    "import math\n",
    "def estimate(times):\n",
    "    sum=0\n",
    "    for i in range(times):\n",
    "        x=random.uniform(2,3)\n",
    "        y=random.uniform(0,100)\n",
    "        d=x*x+4*x*math.sin(x)-y\n",
    "        if d>0:\n",
    "            sum+=1\n",
    "    print((sum*100)/times)\n",
    "estimate(1000000)"
   ]
  },
  {
   "cell_type": "code",
   "execution_count": null,
   "id": "050f25ba-e305-480c-a3e8-07446fac41a2",
   "metadata": {},
   "outputs": [],
   "source": []
  }
 ],
 "metadata": {
  "kernelspec": {
   "display_name": "Python 3 (ipykernel)",
   "language": "python",
   "name": "python3"
  },
  "language_info": {
   "codemirror_mode": {
    "name": "ipython",
    "version": 3
   },
   "file_extension": ".py",
   "mimetype": "text/x-python",
   "name": "python",
   "nbconvert_exporter": "python",
   "pygments_lexer": "ipython3",
   "version": "3.11.4"
  }
 },
 "nbformat": 4,
 "nbformat_minor": 5
}
