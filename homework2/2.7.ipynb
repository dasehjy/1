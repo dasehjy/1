{
 "cells": [
  {
   "cell_type": "code",
   "execution_count": 1,
   "id": "40d947ee-301b-4cb6-81b3-ae905b9c720f",
   "metadata": {},
   "outputs": [
    {
     "name": "stdin",
     "output_type": "stream",
     "text": [
      " 2\n"
     ]
    },
    {
     "name": "stdout",
     "output_type": "stream",
     "text": [
      "1:1.333333333333333\n",
      "2:1.263888888888889\n",
      "3:1.259933493449977\n",
      "4:1.259921050017770\n",
      "5:1.259921049894873\n"
     ]
    }
   ],
   "source": [
    "c=int(input())\n",
    "g=c/2\n",
    "i=0\n",
    "while abs(g*g*g-c)>0.00000000001:\n",
    "    g=(2*g+c/(g*g))/3\n",
    "    i+=1\n",
    "    print(\"%d:%.15f\"%(i,g))"
   ]
  },
  {
   "cell_type": "code",
   "execution_count": null,
   "id": "6868c563-a9ad-4b93-b5af-9557e99eac93",
   "metadata": {},
   "outputs": [],
   "source": []
  }
 ],
 "metadata": {
  "kernelspec": {
   "display_name": "Python 3 (ipykernel)",
   "language": "python",
   "name": "python3"
  },
  "language_info": {
   "codemirror_mode": {
    "name": "ipython",
    "version": 3
   },
   "file_extension": ".py",
   "mimetype": "text/x-python",
   "name": "python",
   "nbconvert_exporter": "python",
   "pygments_lexer": "ipython3",
   "version": "3.11.4"
  }
 },
 "nbformat": 4,
 "nbformat_minor": 5
}
