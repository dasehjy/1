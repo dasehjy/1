{
 "cells": [
  {
   "cell_type": "code",
   "execution_count": 4,
   "id": "a4789d1a-799f-4413-8d99-cf39d1ae4a00",
   "metadata": {},
   "outputs": [
    {
     "name": "stdout",
     "output_type": "stream",
     "text": [
      "1.4141789999659269\n"
     ]
    }
   ],
   "source": [
    "i=1\n",
    "h=0.000001\n",
    "while True:\n",
    "    if abs(i*i-2)<=0.0001:\n",
    "        print(i)\n",
    "        break\n",
    "    i+=h"
   ]
  },
  {
   "cell_type": "code",
   "execution_count": null,
   "id": "c75cf9d3-27da-4c56-9767-20f3e6a20690",
   "metadata": {},
   "outputs": [],
   "source": []
  }
 ],
 "metadata": {
  "kernelspec": {
   "display_name": "Python 3 (ipykernel)",
   "language": "python",
   "name": "python3"
  },
  "language_info": {
   "codemirror_mode": {
    "name": "ipython",
    "version": 3
   },
   "file_extension": ".py",
   "mimetype": "text/x-python",
   "name": "python",
   "nbconvert_exporter": "python",
   "pygments_lexer": "ipython3",
   "version": "3.11.4"
  }
 },
 "nbformat": 4,
 "nbformat_minor": 5
}
