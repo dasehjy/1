{
 "cells": [
  {
   "cell_type": "code",
   "execution_count": 1,
   "id": "50fd8143-cc36-4668-916e-c2157b59c671",
   "metadata": {},
   "outputs": [
    {
     "name": "stdout",
     "output_type": "stream",
     "text": [
      "1024 1048576 1073741824 1099511627776 1125899906842624\n"
     ]
    }
   ],
   "source": [
    "print(2**10,2**20,2**30,2**40,2**50)"
   ]
  },
  {
   "cell_type": "code",
   "execution_count": null,
   "id": "c5f197f3-41fd-4c8a-abe7-6f532c2acc2e",
   "metadata": {},
   "outputs": [],
   "source": []
  }
 ],
 "metadata": {
  "kernelspec": {
   "display_name": "Python 3 (ipykernel)",
   "language": "python",
   "name": "python3"
  },
  "language_info": {
   "codemirror_mode": {
    "name": "ipython",
    "version": 3
   },
   "file_extension": ".py",
   "mimetype": "text/x-python",
   "name": "python",
   "nbconvert_exporter": "python",
   "pygments_lexer": "ipython3",
   "version": "3.11.4"
  }
 },
 "nbformat": 4,
 "nbformat_minor": 5
}
