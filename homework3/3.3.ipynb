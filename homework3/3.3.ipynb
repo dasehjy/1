{
 "cells": [
  {
   "cell_type": "code",
   "execution_count": 3,
   "id": "8d7bbf24-ee5b-4a09-b0d6-ac8b5437e9dd",
   "metadata": {},
   "outputs": [
    {
     "name": "stdin",
     "output_type": "stream",
     "text": [
      " 310104200405200810\n"
     ]
    },
    {
     "name": "stdout",
     "output_type": "stream",
     "text": [
      "<class 'list'>\n",
      "('', '310104200405200810', '', '')\n"
     ]
    }
   ],
   "source": [
    "import re\n",
    "n=input()\n",
    "list=re.findall(\"(^\\d{15}$)|(^\\d{18}$)|(^\\d{17}(\\d|X|x)$)\",n)\n",
    "print(type(list))\n",
    "if not list :\n",
    "    print(\"error\")\n",
    "else :\n",
    "    print(list[0])"
   ]
  },
  {
   "cell_type": "code",
   "execution_count": null,
   "id": "a40295d7-8ecc-48aa-b6ec-e39faad8c157",
   "metadata": {},
   "outputs": [],
   "source": []
  }
 ],
 "metadata": {
  "kernelspec": {
   "display_name": "Python 3 (ipykernel)",
   "language": "python",
   "name": "python3"
  },
  "language_info": {
   "codemirror_mode": {
    "name": "ipython",
    "version": 3
   },
   "file_extension": ".py",
   "mimetype": "text/x-python",
   "name": "python",
   "nbconvert_exporter": "python",
   "pygments_lexer": "ipython3",
   "version": "3.11.4"
  }
 },
 "nbformat": 4,
 "nbformat_minor": 5
}
