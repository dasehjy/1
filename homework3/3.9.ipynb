{
 "cells": [
  {
   "cell_type": "code",
   "execution_count": 2,
   "id": "06acae4d-9819-4723-b3b0-937aedb2517f",
   "metadata": {},
   "outputs": [
    {
     "name": "stdin",
     "output_type": "stream",
     "text": [
      " 2 3 1 4 5\n"
     ]
    },
    {
     "name": "stdout",
     "output_type": "stream",
     "text": [
      "[2, 6, 6, 24, 120]\n"
     ]
    }
   ],
   "source": [
    "B = []\n",
    "list1 = input()\n",
    "list1 = list1.split(' ')\n",
    "sum = 1\n",
    "for i in list1:\n",
    "       sum *= int(i)\n",
    "       B.append(sum)\n",
    "print(B)"
   ]
  },
  {
   "cell_type": "code",
   "execution_count": null,
   "id": "9ba9af4c-be0c-4392-bb80-b64b7122a3d4",
   "metadata": {},
   "outputs": [],
   "source": []
  }
 ],
 "metadata": {
  "kernelspec": {
   "display_name": "Python 3 (ipykernel)",
   "language": "python",
   "name": "python3"
  },
  "language_info": {
   "codemirror_mode": {
    "name": "ipython",
    "version": 3
   },
   "file_extension": ".py",
   "mimetype": "text/x-python",
   "name": "python",
   "nbconvert_exporter": "python",
   "pygments_lexer": "ipython3",
   "version": "3.11.4"
  }
 },
 "nbformat": 4,
 "nbformat_minor": 5
}
