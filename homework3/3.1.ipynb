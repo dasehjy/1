{
 "cells": [
  {
   "cell_type": "code",
   "execution_count": 3,
   "id": "1a1c9417-75ac-485c-aaa4-71d7d1a26c4f",
   "metadata": {},
   "outputs": [
    {
     "name": "stdin",
     "output_type": "stream",
     "text": [
      " 0.9\n"
     ]
    },
    {
     "name": "stdout",
     "output_type": "stream",
     "text": [
      ".1110011001\n"
     ]
    }
   ],
   "source": [
    "def conInt(n):\n",
    "    s=[]\n",
    "    while(n):\n",
    "        s.append(str(n%2))\n",
    "        n=n//2\n",
    "    s.reverse()\n",
    "    return \"\".join(s)\n",
    "    \n",
    "def conFra(n):\n",
    "    x=[]\n",
    "    s=[]\n",
    "    while(n):\n",
    "        n=n*2\n",
    "        x.append(str(int(n)))\n",
    "        n=n-int(n)\n",
    "    for i in range(0,10):\n",
    "        s.append(x[i])\n",
    "    return \"\".join(s)\n",
    "\n",
    "n=eval(input())\n",
    "a=int(n)\n",
    "b=n-a\n",
    "print(f\"{conInt(a)}.{conFra(b)}\")"
   ]
  },
  {
   "cell_type": "code",
   "execution_count": null,
   "id": "4660ad21-f04a-4539-8a77-af98aaea45d7",
   "metadata": {},
   "outputs": [],
   "source": []
  },
  {
   "cell_type": "code",
   "execution_count": null,
   "id": "097db602-a44d-4a5a-81ec-e2f1e5d97a7a",
   "metadata": {},
   "outputs": [],
   "source": []
  }
 ],
 "metadata": {
  "kernelspec": {
   "display_name": "Python 3 (ipykernel)",
   "language": "python",
   "name": "python3"
  },
  "language_info": {
   "codemirror_mode": {
    "name": "ipython",
    "version": 3
   },
   "file_extension": ".py",
   "mimetype": "text/x-python",
   "name": "python",
   "nbconvert_exporter": "python",
   "pygments_lexer": "ipython3",
   "version": "3.11.4"
  }
 },
 "nbformat": 4,
 "nbformat_minor": 5
}
