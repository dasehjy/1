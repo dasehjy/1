{
 "cells": [
  {
   "cell_type": "code",
   "execution_count": 7,
   "id": "a2e436b3-e144-4f5e-93ab-11b506c2967a",
   "metadata": {},
   "outputs": [
    {
     "name": "stdin",
     "output_type": "stream",
     "text": [
      " 2\n",
      " 0.5\n"
     ]
    },
    {
     "name": "stdout",
     "output_type": "stream",
     "text": [
      "1:1.500000000\n",
      "2:1.416666667\n",
      "3:1.414215686\n",
      "4:1.414213562\n"
     ]
    }
   ],
   "source": [
    "c=float(input())\n",
    "a=float(input())\n",
    "g=a*c\n",
    "i=0\n",
    "while abs(g*g-c)>0.00000001:\n",
    "    g=(g+c/g)/2\n",
    "    i+=1\n",
    "    print(\"%d:%.9lf\"%(i,g))"
   ]
  },
  {
   "cell_type": "code",
   "execution_count": null,
   "id": "eb537261-5374-4de3-b79d-0d12a4851a04",
   "metadata": {},
   "outputs": [],
   "source": []
  }
 ],
 "metadata": {
  "kernelspec": {
   "display_name": "Python 3 (ipykernel)",
   "language": "python",
   "name": "python3"
  },
  "language_info": {
   "codemirror_mode": {
    "name": "ipython",
    "version": 3
   },
   "file_extension": ".py",
   "mimetype": "text/x-python",
   "name": "python",
   "nbconvert_exporter": "python",
   "pygments_lexer": "ipython3",
   "version": "3.11.4"
  }
 },
 "nbformat": 4,
 "nbformat_minor": 5
}
